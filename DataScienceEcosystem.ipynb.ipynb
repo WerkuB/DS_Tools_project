{
 "cells": [
  {
   "cell_type": "markdown",
   "id": "9cfed6f1-05f2-41cd-b763-631feacf5a9a",
   "metadata": {},
   "source": [
    "# Data Science Tools and Ecosystem"
   ]
  },
  {
   "cell_type": "markdown",
   "id": "b6e88a4e-63ce-4a91-9ba9-61c80960c11d",
   "metadata": {},
   "source": [
    "In this notebook, Data Science Tools and Ecosystem are summarized.\n",
    "\n",
    "Objectives:\n",
    "* Create a Jupyter Notebook\n",
    "* Insert code and markdown cells\n",
    "* Share your notebook through GitHub\n",
    "* Explore Data Science Libraries\n",
    "* Explore Data Science opensource tools\n",
    "* Explor Data Scince languagues"
   ]
  },
  {
   "cell_type": "markdown",
   "id": "032cd7b3-3469-4e68-8a65-6d96259a9cee",
   "metadata": {},
   "source": [
    "Some of the popular languages that Data Scientists use are:\n",
    "1. Python\n",
    "2. R and\n",
    "3. SQL"
   ]
  },
  {
   "cell_type": "markdown",
   "id": "904e06e5-1a2d-4477-a2ed-333f5af24458",
   "metadata": {},
   "source": [
    "Some of the commonly used libraries used by Data Scientists include:\n",
    "1. Pandas\n",
    "2. Numpy\n",
    "3. seaborn"
   ]
  },
  {
   "cell_type": "markdown",
   "id": "e1ce83b2-6d43-459d-b9a2-6ba0878b8a03",
   "metadata": {},
   "source": [
    "  |# Data Science Tools|\n",
    "  |-------------------|\n",
    "  |Jupitor Notebook   |\n",
    "  |R Studio           |\n",
    "  |Apache Zeppelin    |"
   ]
  },
  {
   "cell_type": "markdown",
   "id": "4a3f3842-5cc4-4cb7-a78a-a5ce4cfe9bb2",
   "metadata": {},
   "source": [
    "### Below are a few examples of evaluating arithmetic expressions in Python"
   ]
  },
  {
   "cell_type": "code",
   "execution_count": 3,
   "id": "3c3eec8e-03a8-4bc7-af1d-8952a4cfaaa4",
   "metadata": {},
   "outputs": [
    {
     "data": {
      "text/plain": [
       "17"
      ]
     },
     "execution_count": 3,
     "metadata": {},
     "output_type": "execute_result"
    }
   ],
   "source": [
    "(3*4)+5"
   ]
  },
  {
   "cell_type": "code",
   "execution_count": 6,
   "id": "55b8a70d-f55e-407f-ab87-2005785500d8",
   "metadata": {},
   "outputs": [
    {
     "data": {
      "text/plain": [
       "3.3333333333333335"
      ]
     },
     "execution_count": 6,
     "metadata": {},
     "output_type": "execute_result"
    }
   ],
   "source": [
    "# This will convert 200 minutes to hours by diving by 60\n",
    "200/60"
   ]
  },
  {
   "cell_type": "markdown",
   "id": "7494278f-db0c-466d-aa55-5bbb9345d6a7",
   "metadata": {},
   "source": [
    "## Author\n",
    "Werku Birhanu"
   ]
  },
  {
   "cell_type": "code",
   "execution_count": null,
   "id": "d27c04a3-f80f-467e-8036-3b55419b4211",
   "metadata": {},
   "outputs": [],
   "source": []
  }
 ],
 "metadata": {
  "kernelspec": {
   "display_name": "Python",
   "language": "python",
   "name": "conda-env-python-py"
  },
  "language_info": {
   "codemirror_mode": {
    "name": "ipython",
    "version": 3
   },
   "file_extension": ".py",
   "mimetype": "text/x-python",
   "name": "python",
   "nbconvert_exporter": "python",
   "pygments_lexer": "ipython3",
   "version": "3.7.12"
  }
 },
 "nbformat": 4,
 "nbformat_minor": 5
}
